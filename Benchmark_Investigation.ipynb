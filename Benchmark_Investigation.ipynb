{
 "cells": [
  {
   "cell_type": "code",
   "execution_count": 96,
   "metadata": {
    "collapsed": true
   },
   "outputs": [],
   "source": [
    "import numpy as np\n",
    "import pandas as pd\n",
    "import matplotlib.pyplot as plt\n",
    "% matplotlib inline"
   ]
  },
  {
   "cell_type": "code",
   "execution_count": 97,
   "metadata": {},
   "outputs": [
    {
     "name": "stdout",
     "output_type": "stream",
     "text": [
      "mv: /Users/codetesting/Downloads/benchmark.zip: No such file or directory\r\n"
     ]
    }
   ],
   "source": [
    "% mv /Users/codetesting/Downloads/benchmark.zip benchmark.zip"
   ]
  },
  {
   "cell_type": "code",
   "execution_count": 98,
   "metadata": {
    "collapsed": true
   },
   "outputs": [],
   "source": [
    "summary = pd.read_csv(\"benchmark_data/index.csv\")"
   ]
  },
  {
   "cell_type": "code",
   "execution_count": 99,
   "metadata": {
    "collapsed": true
   },
   "outputs": [],
   "source": [
    "hedder = pd.read_csv(\"benchmark_data/header.csv\")"
   ]
  },
  {
   "cell_type": "code",
   "execution_count": 100,
   "metadata": {
    "collapsed": true
   },
   "outputs": [],
   "source": [
    "summary.columns = hedder.columns"
   ]
  },
  {
   "cell_type": "code",
   "execution_count": 101,
   "metadata": {},
   "outputs": [
    {
     "data": {
      "text/html": [
       "<div>\n",
       "<style scoped>\n",
       "    .dataframe tbody tr th:only-of-type {\n",
       "        vertical-align: middle;\n",
       "    }\n",
       "\n",
       "    .dataframe tbody tr th {\n",
       "        vertical-align: top;\n",
       "    }\n",
       "\n",
       "    .dataframe thead th {\n",
       "        text-align: right;\n",
       "    }\n",
       "</style>\n",
       "<table border=\"1\" class=\"dataframe\">\n",
       "  <thead>\n",
       "    <tr style=\"text-align: right;\">\n",
       "      <th></th>\n",
       "      <th>lr</th>\n",
       "      <th>reward_lr</th>\n",
       "      <th>epochs</th>\n",
       "      <th>reward_epochs</th>\n",
       "      <th>k</th>\n",
       "      <th>ch_h</th>\n",
       "      <th>agent</th>\n",
       "      <th>num_iters</th>\n",
       "      <th>max_delay</th>\n",
       "      <th>hyperbolic_constant</th>\n",
       "      <th>algorithm</th>\n",
       "      <th>reward_prob</th>\n",
       "      <th>imsize</th>\n",
       "      <th>model</th>\n",
       "      <th>seeds</th>\n",
       "      <th>batchsize</th>\n",
       "      <th>use_gpu</th>\n",
       "      <th>final_accuracy</th>\n",
       "      <th>performance</th>\n",
       "    </tr>\n",
       "  </thead>\n",
       "  <tbody>\n",
       "    <tr>\n",
       "      <th>366</th>\n",
       "      <td>0.025</td>\n",
       "      <td>0.1</td>\n",
       "      <td>30</td>\n",
       "      <td>50</td>\n",
       "      <td>10</td>\n",
       "      <td>150</td>\n",
       "      <td>optimal</td>\n",
       "      <td>50</td>\n",
       "      <td>7</td>\n",
       "      <td>0.9</td>\n",
       "      <td>boltzmann_planner</td>\n",
       "      <td>0.05</td>\n",
       "      <td>8</td>\n",
       "      <td>VIN</td>\n",
       "      <td>1-2-3-4-5-6-7-8</td>\n",
       "      <td>20</td>\n",
       "      <td>True</td>\n",
       "      <td>92.53281252458692</td>\n",
       "      <td>0.43958470492818447</td>\n",
       "    </tr>\n",
       "    <tr>\n",
       "      <th>367</th>\n",
       "      <td>0.025</td>\n",
       "      <td>0.1</td>\n",
       "      <td>30</td>\n",
       "      <td>50</td>\n",
       "      <td>10</td>\n",
       "      <td>150</td>\n",
       "      <td>optimal</td>\n",
       "      <td>50</td>\n",
       "      <td>7</td>\n",
       "      <td>0.9</td>\n",
       "      <td>boltzmann_planner</td>\n",
       "      <td>0.05</td>\n",
       "      <td>8</td>\n",
       "      <td>VI</td>\n",
       "      <td>1-2-3-5-8-13-21-34</td>\n",
       "      <td>20</td>\n",
       "      <td>True</td>\n",
       "      <td>None</td>\n",
       "      <td>None</td>\n",
       "    </tr>\n",
       "    <tr>\n",
       "      <th>368</th>\n",
       "      <td>0.025</td>\n",
       "      <td>0.1</td>\n",
       "      <td>30</td>\n",
       "      <td>50</td>\n",
       "      <td>10</td>\n",
       "      <td>150</td>\n",
       "      <td>optimal</td>\n",
       "      <td>50</td>\n",
       "      <td>7</td>\n",
       "      <td>0.9</td>\n",
       "      <td>boltzmann_planner</td>\n",
       "      <td>0.05</td>\n",
       "      <td>8</td>\n",
       "      <td>VI</td>\n",
       "      <td>2-3-5-8-13-21-34-55</td>\n",
       "      <td>20</td>\n",
       "      <td>True</td>\n",
       "      <td>None</td>\n",
       "      <td>None</td>\n",
       "    </tr>\n",
       "    <tr>\n",
       "      <th>369</th>\n",
       "      <td>0.025</td>\n",
       "      <td>0.1</td>\n",
       "      <td>30</td>\n",
       "      <td>50</td>\n",
       "      <td>10</td>\n",
       "      <td>150</td>\n",
       "      <td>optimal</td>\n",
       "      <td>50</td>\n",
       "      <td>7</td>\n",
       "      <td>0.9</td>\n",
       "      <td>boltzmann_planner</td>\n",
       "      <td>0.05</td>\n",
       "      <td>8</td>\n",
       "      <td>VI</td>\n",
       "      <td>3-5-8-13-21-34-55-89</td>\n",
       "      <td>20</td>\n",
       "      <td>True</td>\n",
       "      <td>None</td>\n",
       "      <td>None</td>\n",
       "    </tr>\n",
       "    <tr>\n",
       "      <th>370</th>\n",
       "      <td>0.025</td>\n",
       "      <td>0.1</td>\n",
       "      <td>30</td>\n",
       "      <td>50</td>\n",
       "      <td>10</td>\n",
       "      <td>150</td>\n",
       "      <td>optimal</td>\n",
       "      <td>50</td>\n",
       "      <td>7</td>\n",
       "      <td>0.9</td>\n",
       "      <td>boltzmann_planner</td>\n",
       "      <td>0.05</td>\n",
       "      <td>8</td>\n",
       "      <td>VI</td>\n",
       "      <td>1-2-3-4-5-6-7-8</td>\n",
       "      <td>20</td>\n",
       "      <td>True</td>\n",
       "      <td>None</td>\n",
       "      <td>None</td>\n",
       "    </tr>\n",
       "  </tbody>\n",
       "</table>\n",
       "</div>"
      ],
      "text/plain": [
       "        lr   reward_lr   epochs   reward_epochs   k   ch_h     agent  \\\n",
       "366  0.025         0.1       30              50  10    150   optimal   \n",
       "367  0.025         0.1       30              50  10    150   optimal   \n",
       "368  0.025         0.1       30              50  10    150   optimal   \n",
       "369  0.025         0.1       30              50  10    150   optimal   \n",
       "370  0.025         0.1       30              50  10    150   optimal   \n",
       "\n",
       "      num_iters   max_delay   hyperbolic_constant           algorithm  \\\n",
       "366          50           7                   0.9   boltzmann_planner   \n",
       "367          50           7                   0.9   boltzmann_planner   \n",
       "368          50           7                   0.9   boltzmann_planner   \n",
       "369          50           7                   0.9   boltzmann_planner   \n",
       "370          50           7                   0.9   boltzmann_planner   \n",
       "\n",
       "      reward_prob   imsize  model                  seeds   batchsize  use_gpu  \\\n",
       "366          0.05        8    VIN        1-2-3-4-5-6-7-8          20     True   \n",
       "367          0.05        8     VI     1-2-3-5-8-13-21-34          20     True   \n",
       "368          0.05        8     VI    2-3-5-8-13-21-34-55          20     True   \n",
       "369          0.05        8     VI   3-5-8-13-21-34-55-89          20     True   \n",
       "370          0.05        8     VI        1-2-3-4-5-6-7-8          20     True   \n",
       "\n",
       "         final_accuracy           performance  \n",
       "366   92.53281252458692   0.43958470492818447  \n",
       "367                None                  None  \n",
       "368                None                  None  \n",
       "369                None                  None  \n",
       "370                None                  None  "
      ]
     },
     "execution_count": 101,
     "metadata": {},
     "output_type": "execute_result"
    }
   ],
   "source": [
    "summary.tail(5)"
   ]
  },
  {
   "cell_type": "code",
   "execution_count": 102,
   "metadata": {
    "collapsed": true
   },
   "outputs": [],
   "source": [
    "completed_frame = summary.loc[summary[' performance'] != ' None']\n",
    "completed_frame = completed_frame.copy()"
   ]
  },
  {
   "cell_type": "markdown",
   "metadata": {},
   "source": [
    "## Number of successful calls\n",
    "\n",
    "Algorithms:"
   ]
  },
  {
   "cell_type": "code",
   "execution_count": 103,
   "metadata": {},
   "outputs": [
    {
     "data": {
      "text/plain": [
       " vi_inference         56\n",
       " no_rewards           48\n",
       " given_rewards        47\n",
       " boltzmann_planner    40\n",
       "Name:  algorithm, dtype: int64"
      ]
     },
     "execution_count": 103,
     "metadata": {},
     "output_type": "execute_result"
    }
   ],
   "source": [
    "completed_frame[' algorithm'].value_counts()"
   ]
  },
  {
   "cell_type": "markdown",
   "metadata": {},
   "source": [
    "Models:"
   ]
  },
  {
   "cell_type": "code",
   "execution_count": 104,
   "metadata": {},
   "outputs": [
    {
     "data": {
      "text/plain": [
       " VIN       124\n",
       " SIMPLE     43\n",
       " VI         24\n",
       "Name:  model, dtype: int64"
      ]
     },
     "execution_count": 104,
     "metadata": {},
     "output_type": "execute_result"
    }
   ],
   "source": [
    "completed_frame[' model'].value_counts()"
   ]
  },
  {
   "cell_type": "code",
   "execution_count": 105,
   "metadata": {
    "collapsed": true
   },
   "outputs": [],
   "source": [
    "# This is not used\n",
    "useful = [' algorithm', ' model', ' final_accuracy', ' performance']"
   ]
  },
  {
   "cell_type": "code",
   "execution_count": 106,
   "metadata": {
    "collapsed": true
   },
   "outputs": [],
   "source": [
    "# Create a column called 'perf' with the float values of the ' perfomance' column\n",
    "compare_success = completed_frame.loc[:, (' performance')].apply(lambda x: float(x.split()[0]))\n",
    "completed_frame['perf'] = compare_success"
   ]
  },
  {
   "cell_type": "markdown",
   "metadata": {},
   "source": [
    "## Analysis: Useful functions"
   ]
  },
  {
   "cell_type": "code",
   "execution_count": 131,
   "metadata": {},
   "outputs": [],
   "source": [
    "def get_rows_by_col(pdframe, colname, val):\n",
    "    \"\"\"Gets the rows where the colname meets some value\"\"\"\n",
    "    return pdframe.loc[pdframe[colname]==val]\n",
    "\n",
    "def get_nontrivial_columns(pdframe):\n",
    "    \"\"\"Gets the nontrivial columns from the pdframe\"\"\"\n",
    "    nontrivial = []\n",
    "    for column in pdframe.columns:\n",
    "        if pdframe[column].unique().size > 1:\n",
    "            nontrivial.append(column)\n",
    "    return nontrivial\n",
    "\n",
    "def get_trans_col(frame, grouped, func_name, colname):\n",
    "    \"\"\"Gets the row with the value given by grouped.transform(func_name)\"\"\"\n",
    "    idx = grouped.transform(func_name) == frame[colname]\n",
    "    return frame.loc[idx]\n",
    "\n",
    "def print_basic_stats(pdframe, group_col, colname):\n",
    "    \"\"\"Prints basic statistics about grouped columns\n",
    "    \n",
    "    i.e. conditions underwhich max & min are achieved\n",
    "    \n",
    "    group_col –– the column we want to groupby (e.g. ' model')\n",
    "    colname   –– the values we want to compare (e.g. 'perf')\n",
    "    \"\"\"\n",
    "    pdgrouped = pdframe.groupby(group_col)[colname]\n",
    "    max_row = get_trans_col(pdframe, pdgrouped, 'max', colname)\n",
    "    min_row = get_trans_col(pdframe, pdgrouped, 'min', colname)\n",
    "    \n",
    "    print(\"\\nMean performance of models is: \")\n",
    "    print(pdgrouped.mean())\n",
    "    print(\"\\nStd performance of models is: \")\n",
    "    print(pdgrouped.std())\n",
    "    print(\"\\nMax performance of models is: \")\n",
    "    print(max_row)\n",
    "    print(\"\\nMin performance of models is: \")\n",
    "    print(min_row)"
   ]
  },
  {
   "cell_type": "markdown",
   "metadata": {},
   "source": [
    "## Analyzing: given_rewards"
   ]
  },
  {
   "cell_type": "code",
   "execution_count": 132,
   "metadata": {
    "collapsed": true
   },
   "outputs": [],
   "source": [
    "given_rewards = get_rows_by_col(completed_frame, ' algorithm', ' given_rewards')"
   ]
  },
  {
   "cell_type": "code",
   "execution_count": 141,
   "metadata": {},
   "outputs": [
    {
     "name": "stdout",
     "output_type": "stream",
     "text": [
      "\n",
      "Mean performance of models is: \n",
      " model\n",
      " SIMPLE    0.659607\n",
      " VIN       0.802909\n",
      "Name: perf, dtype: float64\n",
      "\n",
      "Std performance of models is: \n",
      " model\n",
      " SIMPLE    0.458814\n",
      " VIN       0.131706\n",
      "Name: perf, dtype: float64\n",
      "\n",
      "Max performance of models is: \n",
      "      max_delay   hyperbolic_constant   imsize    model                seeds  \\\n",
      "6             5                   0.9        8      VIN      1-2-3-4-5-6-7-8   \n",
      "287           7                   0.9        8   SIMPLE   1-2-3-5-8-13-21-34   \n",
      "\n",
      "         final_accuracy          performance      perf  \n",
      "6     90.12187501043081   0.9243739500762154  0.924374  \n",
      "287   83.39140617847443   0.9978897509131921  0.997890  \n",
      "\n",
      "Min performance of models is: \n",
      "      max_delay   hyperbolic_constant   imsize    model  \\\n",
      "143           5                   1.0        8   SIMPLE   \n",
      "161           5                   1.0       12      VIN   \n",
      "\n",
      "                     seeds      final_accuracy            performance  \\\n",
      "143     1-2-3-5-8-13-21-34   68.47812515497208   0.061897778714758045   \n",
      "161   3-5-8-13-21-34-55-89   79.92534725368023     0.1915361160133547   \n",
      "\n",
      "         perf  \n",
      "143  0.061898  \n",
      "161  0.191536  \n"
     ]
    }
   ],
   "source": [
    "# Get nontrivial columns of given_rewards, and compare by performance\n",
    "cols = get_nontrivial_columns(given_rewards)\n",
    "print_basic_stats(given_rewards[cols], ' model', 'perf')"
   ]
  },
  {
   "cell_type": "markdown",
   "metadata": {},
   "source": [
    "## Analyzing: no_rewards"
   ]
  },
  {
   "cell_type": "code",
   "execution_count": 142,
   "metadata": {
    "collapsed": true
   },
   "outputs": [],
   "source": [
    "no_rewards = get_rows_by_col(completed_frame, ' algorithm', ' no_rewards')"
   ]
  },
  {
   "cell_type": "code",
   "execution_count": 143,
   "metadata": {},
   "outputs": [
    {
     "name": "stdout",
     "output_type": "stream",
     "text": [
      "\n",
      "Mean performance of models is: \n",
      " model\n",
      " SIMPLE    0.579466\n",
      " VIN       0.745789\n",
      "Name: perf, dtype: float64\n",
      "\n",
      "Std performance of models is: \n",
      " model\n",
      " SIMPLE    0.435274\n",
      " VIN       0.164640\n",
      "Name: perf, dtype: float64\n",
      "\n",
      "Max performance of models is: \n",
      "      max_delay   hyperbolic_constant   imsize    model                seeds  \\\n",
      "39            5                   0.9        8      VIN   1-2-3-5-8-13-21-34   \n",
      "182           5                   1.0        8   SIMPLE      1-2-3-4-5-6-7-8   \n",
      "\n",
      "         final_accuracy          performance      perf  \n",
      "39    95.53593748249114   0.9487861779026734  0.948786  \n",
      "182   82.89765620231628   0.9976912485982808  0.997691  \n",
      "\n",
      "Min performance of models is: \n",
      "      max_delay   hyperbolic_constant   imsize    model  \\\n",
      "37            5                   0.9        8   SIMPLE   \n",
      "339           7                   0.9       12      VIN   \n",
      "\n",
      "                     seeds      final_accuracy           performance      perf  \n",
      "37    3-5-8-13-21-34-55-89   81.10156248509884    0.0843627682867343  0.084363  \n",
      "339     1-2-3-5-8-13-21-34   83.50451390445232   0.19269750002668448  0.192698  \n"
     ]
    }
   ],
   "source": [
    "cols = get_nontrivial_columns(no_rewards)\n",
    "print_basic_stats(no_rewards[cols], ' model', 'perf')"
   ]
  },
  {
   "cell_type": "markdown",
   "metadata": {},
   "source": [
    "## Analyzing: boltzmann_planner"
   ]
  },
  {
   "cell_type": "code",
   "execution_count": 148,
   "metadata": {
    "collapsed": true
   },
   "outputs": [],
   "source": [
    "b_planner = get_rows_by_col(completed_frame, ' algorithm', ' boltzmann_planner')"
   ]
  },
  {
   "cell_type": "code",
   "execution_count": 149,
   "metadata": {},
   "outputs": [
    {
     "name": "stdout",
     "output_type": "stream",
     "text": [
      "\n",
      "Mean performance of models is: \n",
      " model\n",
      " SIMPLE    0.745769\n",
      " VIN       0.704370\n",
      "Name: perf, dtype: float64\n",
      "\n",
      "Std performance of models is: \n",
      " model\n",
      " SIMPLE    0.366376\n",
      " VIN       0.190893\n",
      "Name: perf, dtype: float64\n",
      "\n",
      "Max performance of models is: \n",
      "      max_delay   hyperbolic_constant   imsize    model  \\\n",
      "73            5                   0.9        8   SIMPLE   \n",
      "220           5                   1.0        8      VIN   \n",
      "\n",
      "                     seeds      final_accuracy          performance      perf  \n",
      "73    3-5-8-13-21-34-55-89   83.43671880662441   0.9978364895812957  0.997836  \n",
      "220    2-3-5-8-13-21-34-55   95.20781250484288   0.9301018765560356  0.930102  \n",
      "\n",
      "Min performance of models is: \n",
      "      max_delay   hyperbolic_constant   imsize    model                seeds  \\\n",
      "71            5                   0.9        8   SIMPLE   1-2-3-5-8-13-21-34   \n",
      "219           5                   1.0        8      VIN   1-2-3-5-8-13-21-34   \n",
      "\n",
      "         final_accuracy           performance      perf  \n",
      "71    69.08046877384186   0.19969138380237772  0.199691  \n",
      "219    93.8265625089407    0.2281917030274899  0.228192  \n"
     ]
    }
   ],
   "source": [
    "cols = get_nontrivial_columns(b_planner)\n",
    "print_basic_stats(b_planner[cols], ' model', 'perf')"
   ]
  },
  {
   "cell_type": "markdown",
   "metadata": {},
   "source": [
    "## Analyzing: vi_inference"
   ]
  },
  {
   "cell_type": "code",
   "execution_count": 152,
   "metadata": {},
   "outputs": [
    {
     "name": "stdout",
     "output_type": "stream",
     "text": [
      "\n",
      "Mean performance of models is: \n",
      " model\n",
      " SIMPLE    0.137255\n",
      " VI        0.892551\n",
      " VIN       0.024533\n",
      "Name: perf, dtype: float64\n",
      "\n",
      "Std performance of models is: \n",
      " model\n",
      " SIMPLE    0.242810\n",
      " VI        0.071929\n",
      " VIN       0.017874\n",
      "Name: perf, dtype: float64\n",
      "\n",
      "Max performance of models is: \n",
      "      hyperbolic_constant   imsize    model                  seeds  \\\n",
      "112                   0.9        8      VIN    2-3-5-8-13-21-34-55   \n",
      "115                   0.9        8       VI     1-2-3-5-8-13-21-34   \n",
      "118                   0.9        8       VI        1-2-3-4-5-6-7-8   \n",
      "253                   1.0        8   SIMPLE   3-5-8-13-21-34-55-89   \n",
      "259                   1.0        8       VI     1-2-3-5-8-13-21-34   \n",
      "\n",
      "              performance      perf  \n",
      "112   0.06828133088948023  0.068281  \n",
      "115    0.9918996228644773  0.991900  \n",
      "118    0.9918996228644773  0.991900  \n",
      "253    0.7335380404446011  0.733538  \n",
      "259    0.9918996228644773  0.991900  \n",
      "\n",
      "Min performance of models is: \n",
      "      hyperbolic_constant   imsize    model                 seeds  \\\n",
      "136                   0.9       16      VIN   2-3-5-8-13-21-34-55   \n",
      "254                   1.0        8   SIMPLE       1-2-3-4-5-6-7-8   \n",
      "286                   1.0       16       VI       1-2-3-4-5-6-7-8   \n",
      "\n",
      "              performance      perf  \n",
      "136   0.00785732100915101  0.007857  \n",
      "254   0.01784780122202611  0.017848  \n",
      "286    0.8157240277149561  0.815724  \n"
     ]
    }
   ],
   "source": [
    "vi_alg = get_rows_by_col(completed_frame, ' algorithm', ' vi_inference')\n",
    "cols = get_nontrivial_columns(vi_alg)\n",
    "print_basic_stats(vi_alg[cols], ' model', 'perf')"
   ]
  },
  {
   "cell_type": "code",
   "execution_count": null,
   "metadata": {
    "collapsed": true
   },
   "outputs": [],
   "source": []
  }
 ],
 "metadata": {
  "kernelspec": {
   "display_name": "Python [conda env:SUSA]",
   "language": "python",
   "name": "conda-env-SUSA-py"
  },
  "language_info": {
   "codemirror_mode": {
    "name": "ipython",
    "version": 3
   },
   "file_extension": ".py",
   "mimetype": "text/x-python",
   "name": "python",
   "nbconvert_exporter": "python",
   "pygments_lexer": "ipython3",
   "version": "3.6.2"
  }
 },
 "nbformat": 4,
 "nbformat_minor": 1
}
