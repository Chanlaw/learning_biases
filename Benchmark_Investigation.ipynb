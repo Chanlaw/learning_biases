{
 "cells": [
  {
   "cell_type": "code",
   "execution_count": 1,
   "metadata": {
    "collapsed": true
   },
   "outputs": [],
   "source": [
    "import numpy as np\n",
    "import pandas as pd\n",
    "import matplotlib.pyplot as plt\n",
    "% matplotlib inline"
   ]
  },
  {
   "cell_type": "code",
   "execution_count": 2,
   "metadata": {},
   "outputs": [
    {
     "name": "stdout",
     "output_type": "stream",
     "text": [
      "mv: /Users/codetesting/Downloads/benchmark.zip: No such file or directory\r\n"
     ]
    }
   ],
   "source": [
    "% mv /Users/codetesting/Downloads/benchmark.zip benchmark.zip"
   ]
  },
  {
   "cell_type": "code",
   "execution_count": 3,
   "metadata": {
    "collapsed": true
   },
   "outputs": [],
   "source": [
    "summary = pd.read_csv(\"benchmark_data/index.csv\")"
   ]
  },
  {
   "cell_type": "code",
   "execution_count": 4,
   "metadata": {
    "collapsed": true
   },
   "outputs": [],
   "source": [
    "hedder = pd.read_csv(\"benchmark_data/header.csv\")"
   ]
  },
  {
   "cell_type": "code",
   "execution_count": 5,
   "metadata": {
    "collapsed": true
   },
   "outputs": [],
   "source": [
    "summary.columns = hedder.columns"
   ]
  },
  {
   "cell_type": "code",
   "execution_count": 6,
   "metadata": {},
   "outputs": [
    {
     "data": {
      "text/html": [
       "<div>\n",
       "<style scoped>\n",
       "    .dataframe tbody tr th:only-of-type {\n",
       "        vertical-align: middle;\n",
       "    }\n",
       "\n",
       "    .dataframe tbody tr th {\n",
       "        vertical-align: top;\n",
       "    }\n",
       "\n",
       "    .dataframe thead th {\n",
       "        text-align: right;\n",
       "    }\n",
       "</style>\n",
       "<table border=\"1\" class=\"dataframe\">\n",
       "  <thead>\n",
       "    <tr style=\"text-align: right;\">\n",
       "      <th></th>\n",
       "      <th>lr</th>\n",
       "      <th>reward_lr</th>\n",
       "      <th>epochs</th>\n",
       "      <th>reward_epochs</th>\n",
       "      <th>k</th>\n",
       "      <th>ch_h</th>\n",
       "      <th>agent</th>\n",
       "      <th>num_iters</th>\n",
       "      <th>max_delay</th>\n",
       "      <th>hyperbolic_constant</th>\n",
       "      <th>algorithm</th>\n",
       "      <th>reward_prob</th>\n",
       "      <th>imsize</th>\n",
       "      <th>model</th>\n",
       "      <th>seeds</th>\n",
       "      <th>batchsize</th>\n",
       "      <th>use_gpu</th>\n",
       "      <th>final_accuracy</th>\n",
       "      <th>performance</th>\n",
       "    </tr>\n",
       "  </thead>\n",
       "  <tbody>\n",
       "    <tr>\n",
       "      <th>1148</th>\n",
       "      <td>0.025</td>\n",
       "      <td>0.1</td>\n",
       "      <td>30</td>\n",
       "      <td>50</td>\n",
       "      <td>10</td>\n",
       "      <td>150</td>\n",
       "      <td>myopic</td>\n",
       "      <td>50</td>\n",
       "      <td>7</td>\n",
       "      <td>1.0</td>\n",
       "      <td>vi_inference</td>\n",
       "      <td>0.05</td>\n",
       "      <td>16</td>\n",
       "      <td>VI</td>\n",
       "      <td>2-3-5-8-13-21-34-55</td>\n",
       "      <td>20</td>\n",
       "      <td>True</td>\n",
       "      <td>None</td>\n",
       "      <td>0.9133453765302936</td>\n",
       "    </tr>\n",
       "    <tr>\n",
       "      <th>1149</th>\n",
       "      <td>0.025</td>\n",
       "      <td>0.1</td>\n",
       "      <td>30</td>\n",
       "      <td>50</td>\n",
       "      <td>10</td>\n",
       "      <td>150</td>\n",
       "      <td>myopic</td>\n",
       "      <td>50</td>\n",
       "      <td>7</td>\n",
       "      <td>1.0</td>\n",
       "      <td>vi_inference</td>\n",
       "      <td>0.05</td>\n",
       "      <td>16</td>\n",
       "      <td>VI</td>\n",
       "      <td>3-5-8-13-21-34-55-89</td>\n",
       "      <td>20</td>\n",
       "      <td>True</td>\n",
       "      <td>None</td>\n",
       "      <td>0.9050034539818632</td>\n",
       "    </tr>\n",
       "    <tr>\n",
       "      <th>1150</th>\n",
       "      <td>0.025</td>\n",
       "      <td>0.1</td>\n",
       "      <td>30</td>\n",
       "      <td>50</td>\n",
       "      <td>10</td>\n",
       "      <td>150</td>\n",
       "      <td>myopic</td>\n",
       "      <td>50</td>\n",
       "      <td>7</td>\n",
       "      <td>1.0</td>\n",
       "      <td>vi_inference</td>\n",
       "      <td>0.05</td>\n",
       "      <td>16</td>\n",
       "      <td>VI</td>\n",
       "      <td>1-2-3-4-5-6-7-8</td>\n",
       "      <td>20</td>\n",
       "      <td>True</td>\n",
       "      <td>None</td>\n",
       "      <td>0.9093241767884133</td>\n",
       "    </tr>\n",
       "    <tr>\n",
       "      <th>1151</th>\n",
       "      <td>0.025</td>\n",
       "      <td>0.1</td>\n",
       "      <td>30</td>\n",
       "      <td>50</td>\n",
       "      <td>10</td>\n",
       "      <td>150</td>\n",
       "      <td>sophisticated</td>\n",
       "      <td>50</td>\n",
       "      <td>5</td>\n",
       "      <td>0.9</td>\n",
       "      <td>given_rewards</td>\n",
       "      <td>0.05</td>\n",
       "      <td>8</td>\n",
       "      <td>SIMPLE</td>\n",
       "      <td>1-2-3-5-8-13-21-34</td>\n",
       "      <td>20</td>\n",
       "      <td>True</td>\n",
       "      <td>83.39921872317791</td>\n",
       "      <td>0.9912607749893483</td>\n",
       "    </tr>\n",
       "    <tr>\n",
       "      <th>1152</th>\n",
       "      <td>0.025</td>\n",
       "      <td>0.1</td>\n",
       "      <td>30</td>\n",
       "      <td>50</td>\n",
       "      <td>10</td>\n",
       "      <td>150</td>\n",
       "      <td>sophisticated</td>\n",
       "      <td>50</td>\n",
       "      <td>5</td>\n",
       "      <td>0.9</td>\n",
       "      <td>given_rewards</td>\n",
       "      <td>0.05</td>\n",
       "      <td>8</td>\n",
       "      <td>SIMPLE</td>\n",
       "      <td>2-3-5-8-13-21-34-55</td>\n",
       "      <td>20</td>\n",
       "      <td>True</td>\n",
       "      <td>82.94296878576279</td>\n",
       "      <td>0.9799702790324849</td>\n",
       "    </tr>\n",
       "  </tbody>\n",
       "</table>\n",
       "</div>"
      ],
      "text/plain": [
       "         lr   reward_lr   epochs   reward_epochs   k   ch_h           agent  \\\n",
       "1148  0.025         0.1       30              50  10    150          myopic   \n",
       "1149  0.025         0.1       30              50  10    150          myopic   \n",
       "1150  0.025         0.1       30              50  10    150          myopic   \n",
       "1151  0.025         0.1       30              50  10    150   sophisticated   \n",
       "1152  0.025         0.1       30              50  10    150   sophisticated   \n",
       "\n",
       "       num_iters   max_delay   hyperbolic_constant       algorithm  \\\n",
       "1148          50           7                   1.0    vi_inference   \n",
       "1149          50           7                   1.0    vi_inference   \n",
       "1150          50           7                   1.0    vi_inference   \n",
       "1151          50           5                   0.9   given_rewards   \n",
       "1152          50           5                   0.9   given_rewards   \n",
       "\n",
       "       reward_prob   imsize    model                  seeds   batchsize  \\\n",
       "1148          0.05       16       VI    2-3-5-8-13-21-34-55          20   \n",
       "1149          0.05       16       VI   3-5-8-13-21-34-55-89          20   \n",
       "1150          0.05       16       VI        1-2-3-4-5-6-7-8          20   \n",
       "1151          0.05        8   SIMPLE     1-2-3-5-8-13-21-34          20   \n",
       "1152          0.05        8   SIMPLE    2-3-5-8-13-21-34-55          20   \n",
       "\n",
       "      use_gpu      final_accuracy          performance  \n",
       "1148     True                None   0.9133453765302936  \n",
       "1149     True                None   0.9050034539818632  \n",
       "1150     True                None   0.9093241767884133  \n",
       "1151     True   83.39921872317791   0.9912607749893483  \n",
       "1152     True   82.94296878576279   0.9799702790324849  "
      ]
     },
     "execution_count": 6,
     "metadata": {},
     "output_type": "execute_result"
    }
   ],
   "source": [
    "summary.tail(5)"
   ]
  },
  {
   "cell_type": "code",
   "execution_count": 7,
   "metadata": {
    "collapsed": true
   },
   "outputs": [],
   "source": [
    "completed_frame = summary.loc[summary[' performance'] != ' None']\n",
    "completed_frame = completed_frame.copy()"
   ]
  },
  {
   "cell_type": "markdown",
   "metadata": {},
   "source": [
    "## Number of successful calls\n",
    "\n",
    "Algorithms:"
   ]
  },
  {
   "cell_type": "code",
   "execution_count": 8,
   "metadata": {},
   "outputs": [
    {
     "data": {
      "text/plain": [
       " vi_inference         218\n",
       " given_rewards        129\n",
       " boltzmann_planner    128\n",
       " no_rewards           128\n",
       "Name:  algorithm, dtype: int64"
      ]
     },
     "execution_count": 8,
     "metadata": {},
     "output_type": "execute_result"
    }
   ],
   "source": [
    "completed_frame[' algorithm'].value_counts()"
   ]
  },
  {
   "cell_type": "markdown",
   "metadata": {},
   "source": [
    "Models:"
   ]
  },
  {
   "cell_type": "code",
   "execution_count": 9,
   "metadata": {},
   "outputs": [
    {
     "data": {
      "text/plain": [
       " VIN       384\n",
       " SIMPLE    123\n",
       " VI         96\n",
       "Name:  model, dtype: int64"
      ]
     },
     "execution_count": 9,
     "metadata": {},
     "output_type": "execute_result"
    }
   ],
   "source": [
    "completed_frame[' model'].value_counts()"
   ]
  },
  {
   "cell_type": "code",
   "execution_count": 10,
   "metadata": {
    "collapsed": true
   },
   "outputs": [],
   "source": [
    "# This is not used\n",
    "useful = [' algorithm', ' model', ' final_accuracy', ' performance']"
   ]
  },
  {
   "cell_type": "code",
   "execution_count": 11,
   "metadata": {
    "collapsed": true
   },
   "outputs": [],
   "source": [
    "# Create a column called 'perf' with the float values of the ' perfomance' column\n",
    "compare_success = completed_frame.loc[:, (' performance')].apply(lambda x: float(x.split()[0]))\n",
    "completed_frame['perf'] = compare_success"
   ]
  },
  {
   "cell_type": "markdown",
   "metadata": {},
   "source": [
    "## Analysis: Useful functions"
   ]
  },
  {
   "cell_type": "code",
   "execution_count": 12,
   "metadata": {
    "collapsed": true
   },
   "outputs": [],
   "source": [
    "def get_rows_by_col(pdframe, colname, val):\n",
    "    \"\"\"Gets the rows where the colname meets some value\"\"\"\n",
    "    return pdframe.loc[pdframe[colname]==val]\n",
    "\n",
    "def get_nontrivial_columns(pdframe):\n",
    "    \"\"\"Gets the nontrivial columns from the pdframe\"\"\"\n",
    "    nontrivial = []\n",
    "    for column in pdframe.columns:\n",
    "        if pdframe[column].unique().size > 1:\n",
    "            nontrivial.append(column)\n",
    "    return nontrivial\n",
    "\n",
    "def get_trans_col(frame, grouped, func_name, colname):\n",
    "    \"\"\"Gets the row with the value given by grouped.transform(func_name)\"\"\"\n",
    "    idx = grouped.transform(func_name) == frame[colname]\n",
    "    return frame.loc[idx]\n",
    "\n",
    "def print_basic_stats(pdframe, group_col, colname):\n",
    "    \"\"\"Prints basic statistics about grouped columns\n",
    "    \n",
    "    i.e. conditions underwhich max & min are achieved\n",
    "    \n",
    "    group_col –– the column we want to groupby (e.g. ' model')\n",
    "    colname   –– the values we want to compare (e.g. 'perf')\n",
    "    \"\"\"\n",
    "    pdgrouped = pdframe.groupby(group_col)[colname]\n",
    "    max_row = get_trans_col(pdframe, pdgrouped, 'max', colname)\n",
    "    min_row = get_trans_col(pdframe, pdgrouped, 'min', colname)\n",
    "    \n",
    "    print(\"\\nMean performance of models is: \")\n",
    "    print(pdgrouped.mean())\n",
    "    print(\"\\nStd performance of models is: \")\n",
    "    print(pdgrouped.std())\n",
    "    print(\"\\nMax performance of models is: \")\n",
    "    print(max_row)\n",
    "    print(\"\\nMin performance of models is: \")\n",
    "    print(min_row)"
   ]
  },
  {
   "cell_type": "markdown",
   "metadata": {},
   "source": [
    "## Analyzing: given_rewards"
   ]
  },
  {
   "cell_type": "code",
   "execution_count": 13,
   "metadata": {
    "collapsed": true
   },
   "outputs": [],
   "source": [
    "given_rewards = get_rows_by_col(completed_frame, ' algorithm', ' given_rewards')"
   ]
  },
  {
   "cell_type": "code",
   "execution_count": 14,
   "metadata": {},
   "outputs": [
    {
     "name": "stdout",
     "output_type": "stream",
     "text": [
      "\n",
      "Mean performance of models is: \n",
      " model\n",
      " SIMPLE    0.511206\n",
      " VIN       0.668806\n",
      "Name: perf, dtype: float64\n",
      "\n",
      "Std performance of models is: \n",
      " model\n",
      " SIMPLE    0.364155\n",
      " VIN       0.200970\n",
      "Name: perf, dtype: float64\n",
      "\n",
      "Max performance of models is: \n",
      "        agent   max_delay   hyperbolic_constant   imsize    model  \\\n",
      "6     optimal           5                   0.9        8      VIN   \n",
      "287   optimal           7                   0.9        8   SIMPLE   \n",
      "\n",
      "                   seeds      final_accuracy          performance      perf  \n",
      "6        1-2-3-4-5-6-7-8   90.12187501043081   0.9243739500762154  0.924374  \n",
      "287   1-2-3-5-8-13-21-34   83.39140617847443   0.9978897509131921  0.997890  \n",
      "\n",
      "Min performance of models is: \n",
      "       agent   max_delay   hyperbolic_constant   imsize    model  \\\n",
      "577   myopic           5                   0.9        8   SIMPLE   \n",
      "603   myopic           5                   0.9       16      VIN   \n",
      "\n",
      "                     seeds      final_accuracy          performance      perf  \n",
      "577   3-5-8-13-21-34-55-89   78.91640628874302   0.0500094033280458  0.050009  \n",
      "603     1-2-3-5-8-13-21-34   86.56445310264826   0.1514711411055531  0.151471  \n"
     ]
    }
   ],
   "source": [
    "# Get nontrivial columns of given_rewards, and compare by performance\n",
    "cols = get_nontrivial_columns(given_rewards)\n",
    "print_basic_stats(given_rewards[cols], ' model', 'perf')"
   ]
  },
  {
   "cell_type": "markdown",
   "metadata": {},
   "source": [
    "## Analyzing: no_rewards"
   ]
  },
  {
   "cell_type": "code",
   "execution_count": 15,
   "metadata": {
    "collapsed": true
   },
   "outputs": [],
   "source": [
    "no_rewards = get_rows_by_col(completed_frame, ' algorithm', ' no_rewards')"
   ]
  },
  {
   "cell_type": "code",
   "execution_count": 16,
   "metadata": {},
   "outputs": [
    {
     "name": "stdout",
     "output_type": "stream",
     "text": [
      "\n",
      "Mean performance of models is: \n",
      " model\n",
      " SIMPLE    0.384627\n",
      " VIN       0.699094\n",
      "Name: perf, dtype: float64\n",
      "\n",
      "Std performance of models is: \n",
      " model\n",
      " SIMPLE    0.355292\n",
      " VIN       0.217515\n",
      "Name: perf, dtype: float64\n",
      "\n",
      "Max performance of models is: \n",
      "        agent   max_delay   hyperbolic_constant   imsize    model  \\\n",
      "182   optimal           5                   1.0        8   SIMPLE   \n",
      "762    myopic           5                   1.0        8      VIN   \n",
      "\n",
      "                seeds      final_accuracy          performance      perf  \n",
      "182   1-2-3-4-5-6-7-8   82.89765620231628   0.9976912485982808  0.997691  \n",
      "762   1-2-3-4-5-6-7-8   88.30468744039536   0.9853662344351659  0.985366  \n",
      "\n",
      "Min performance of models is: \n",
      "       agent   max_delay   hyperbolic_constant   imsize    model  \\\n",
      "755   myopic           5                   1.0        8   SIMPLE   \n",
      "772   myopic           5                   1.0       12      VIN   \n",
      "\n",
      "                    seeds      final_accuracy           performance      perf  \n",
      "755    1-2-3-5-8-13-21-34   70.97734373807907   0.03816931818633365  0.038169  \n",
      "772   2-3-5-8-13-21-34-55   86.03333324939013   0.06501296243669899  0.065013  \n"
     ]
    }
   ],
   "source": [
    "cols = get_nontrivial_columns(no_rewards)\n",
    "print_basic_stats(no_rewards[cols], ' model', 'perf')"
   ]
  },
  {
   "cell_type": "markdown",
   "metadata": {},
   "source": [
    "## Analyzing: boltzmann_planner"
   ]
  },
  {
   "cell_type": "code",
   "execution_count": 17,
   "metadata": {
    "collapsed": true
   },
   "outputs": [],
   "source": [
    "b_planner = get_rows_by_col(completed_frame, ' algorithm', ' boltzmann_planner')"
   ]
  },
  {
   "cell_type": "code",
   "execution_count": 18,
   "metadata": {},
   "outputs": [
    {
     "name": "stdout",
     "output_type": "stream",
     "text": [
      "\n",
      "Mean performance of models is: \n",
      " model\n",
      " SIMPLE    0.569295\n",
      " VIN       0.684930\n",
      "Name: perf, dtype: float64\n",
      "\n",
      "Std performance of models is: \n",
      " model\n",
      " SIMPLE    0.338840\n",
      " VIN       0.231216\n",
      "Name: perf, dtype: float64\n",
      "\n",
      "Max performance of models is: \n",
      "        agent   max_delay   hyperbolic_constant   imsize    model  \\\n",
      "73    optimal           5                   0.9        8   SIMPLE   \n",
      "507   optimal           7                   1.0        8      VIN   \n",
      "\n",
      "                     seeds      final_accuracy          performance      perf  \n",
      "73    3-5-8-13-21-34-55-89   83.43671880662441   0.9978364895812957  0.997836  \n",
      "507     1-2-3-5-8-13-21-34   89.67890626192093   0.9419282325215252  0.941928  \n",
      "\n",
      "Min performance of models is: \n",
      "       agent   max_delay   hyperbolic_constant   imsize    model  \\\n",
      "648   myopic           5                   0.9        8   SIMPLE   \n",
      "822   myopic           5                   1.0       16      VIN   \n",
      "\n",
      "                    seeds      final_accuracy           performance      perf  \n",
      "648   2-3-5-8-13-21-34-55   64.30156260728836   0.05251371716472541  0.052514  \n",
      "822       1-2-3-4-5-6-7-8   72.56562496721745   0.03241380424879376  0.032414  \n"
     ]
    }
   ],
   "source": [
    "cols = get_nontrivial_columns(b_planner)\n",
    "print_basic_stats(b_planner[cols], ' model', 'perf')"
   ]
  },
  {
   "cell_type": "markdown",
   "metadata": {},
   "source": [
    "## Analyzing: vi_inference"
   ]
  },
  {
   "cell_type": "code",
   "execution_count": 19,
   "metadata": {},
   "outputs": [
    {
     "name": "stdout",
     "output_type": "stream",
     "text": [
      "\n",
      "Mean performance of models is: \n",
      " model\n",
      " SIMPLE    0.080139\n",
      " VI        0.923487\n",
      " VIN       0.023981\n",
      "Name: perf, dtype: float64\n",
      "\n",
      "Std performance of models is: \n",
      " model\n",
      " SIMPLE    0.136985\n",
      " VI        0.065232\n",
      " VIN       0.016410\n",
      "Name: perf, dtype: float64\n",
      "\n",
      "Max performance of models is: \n",
      "        agent   max_delay   hyperbolic_constant   imsize    model  \\\n",
      "112   optimal           5                   0.9        8      VIN   \n",
      "253   optimal           5                   1.0        8   SIMPLE   \n",
      "715    myopic           5                   0.9       16       VI   \n",
      "718    myopic           5                   0.9       16       VI   \n",
      "859    myopic           5                   1.0       16       VI   \n",
      "\n",
      "                     seeds           performance      perf  \n",
      "112    2-3-5-8-13-21-34-55   0.06828133088948023  0.068281  \n",
      "253   3-5-8-13-21-34-55-89    0.7335380404446011  0.733538  \n",
      "715     1-2-3-5-8-13-21-34    0.9921396771749191  0.992140  \n",
      "718        1-2-3-4-5-6-7-8    0.9921396771749191  0.992140  \n",
      "859     1-2-3-5-8-13-21-34    0.9921396771749191  0.992140  \n",
      "\n",
      "Min performance of models is: \n",
      "         agent   max_delay   hyperbolic_constant   imsize    model  \\\n",
      "286    optimal           5                   1.0       16       VI   \n",
      "427    optimal           7                   0.9       16       VI   \n",
      "430    optimal           7                   0.9       16       VI   \n",
      "541    optimal           7                   1.0        8   SIMPLE   \n",
      "1001    myopic           7                   0.9       16      VIN   \n",
      "\n",
      "                      seeds             performance      perf  \n",
      "286         1-2-3-4-5-6-7-8      0.8157240277149561  0.815724  \n",
      "427      1-2-3-5-8-13-21-34      0.8157240277149561  0.815724  \n",
      "430         1-2-3-4-5-6-7-8      0.8157240277149561  0.815724  \n",
      "541    3-5-8-13-21-34-55-89    0.015487847160348598  0.015488  \n",
      "1001   3-5-8-13-21-34-55-89   0.0032497874791459942  0.003250  \n"
     ]
    }
   ],
   "source": [
    "vi_alg = get_rows_by_col(completed_frame, ' algorithm', ' vi_inference')\n",
    "cols = get_nontrivial_columns(vi_alg)\n",
    "print_basic_stats(vi_alg[cols], ' model', 'perf')"
   ]
  }
 ],
 "metadata": {
  "kernelspec": {
   "display_name": "Python [conda env:SUSA]",
   "language": "python",
   "name": "conda-env-SUSA-py"
  },
  "language_info": {
   "codemirror_mode": {
    "name": "ipython",
    "version": 3
   },
   "file_extension": ".py",
   "mimetype": "text/x-python",
   "name": "python",
   "nbconvert_exporter": "python",
   "pygments_lexer": "ipython3",
   "version": "3.6.2"
  }
 },
 "nbformat": 4,
 "nbformat_minor": 1
}
